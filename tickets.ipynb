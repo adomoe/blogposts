{
 "cells": [
  {
   "cell_type": "code",
   "execution_count": 43,
   "metadata": {},
   "outputs": [],
   "source": [
    "import matplotlib.pyplot as plt\n",
    "import pandas as pd\n",
    "import numpy as np"
   ]
  },
  {
   "cell_type": "code",
   "execution_count": 6,
   "metadata": {},
   "outputs": [],
   "source": [
    "df = pd.read_csv('tickets.csv', header=None)"
   ]
  },
  {
   "cell_type": "code",
   "execution_count": 7,
   "metadata": {},
   "outputs": [
    {
     "data": {
      "text/html": [
       "<div>\n",
       "<style scoped>\n",
       "    .dataframe tbody tr th:only-of-type {\n",
       "        vertical-align: middle;\n",
       "    }\n",
       "\n",
       "    .dataframe tbody tr th {\n",
       "        vertical-align: top;\n",
       "    }\n",
       "\n",
       "    .dataframe thead th {\n",
       "        text-align: right;\n",
       "    }\n",
       "</style>\n",
       "<table border=\"1\" class=\"dataframe\">\n",
       "  <thead>\n",
       "    <tr style=\"text-align: right;\">\n",
       "      <th></th>\n",
       "      <th>0</th>\n",
       "      <th>1</th>\n",
       "      <th>2</th>\n",
       "      <th>3</th>\n",
       "      <th>4</th>\n",
       "      <th>5</th>\n",
       "    </tr>\n",
       "  </thead>\n",
       "  <tbody>\n",
       "    <tr>\n",
       "      <th>0</th>\n",
       "      <td>1</td>\n",
       "      <td>TM</td>\n",
       "      <td>43</td>\n",
       "      <td>8.35</td>\n",
       "      <td>3.88</td>\n",
       "      <td>55.23</td>\n",
       "    </tr>\n",
       "    <tr>\n",
       "      <th>1</th>\n",
       "      <td>2</td>\n",
       "      <td>ET</td>\n",
       "      <td>36</td>\n",
       "      <td>13.38</td>\n",
       "      <td>1.48</td>\n",
       "      <td>50.86</td>\n",
       "    </tr>\n",
       "    <tr>\n",
       "      <th>2</th>\n",
       "      <td>3</td>\n",
       "      <td>TW</td>\n",
       "      <td>59</td>\n",
       "      <td>16.60</td>\n",
       "      <td>0.00</td>\n",
       "      <td>75.60</td>\n",
       "    </tr>\n",
       "  </tbody>\n",
       "</table>\n",
       "</div>"
      ],
      "text/plain": [
       "   0   1   2      3     4      5\n",
       "0  1  TM  43   8.35  3.88  55.23\n",
       "1  2  ET  36  13.38  1.48  50.86\n",
       "2  3  TW  59  16.60  0.00  75.60"
      ]
     },
     "execution_count": 7,
     "metadata": {},
     "output_type": "execute_result"
    }
   ],
   "source": [
    "df"
   ]
  },
  {
   "cell_type": "markdown",
   "metadata": {},
   "source": [
    "Uh-oh.  I forgot to save the headers with the MySQL statement that created the csv file.  I can fix that there, but I'll do it here since we won't be using the MySQL file again"
   ]
  },
  {
   "cell_type": "code",
   "execution_count": 98,
   "metadata": {},
   "outputs": [],
   "source": [
    "df = pd.read_csv('tickets.csv', header=None, names = ['ID', 'Vendor', 'Subtotal', 'Service_Fee', 'Additional_Taxes', 'Total'])"
   ]
  },
  {
   "cell_type": "code",
   "execution_count": 9,
   "metadata": {},
   "outputs": [
    {
     "data": {
      "text/html": [
       "<div>\n",
       "<style scoped>\n",
       "    .dataframe tbody tr th:only-of-type {\n",
       "        vertical-align: middle;\n",
       "    }\n",
       "\n",
       "    .dataframe tbody tr th {\n",
       "        vertical-align: top;\n",
       "    }\n",
       "\n",
       "    .dataframe thead th {\n",
       "        text-align: right;\n",
       "    }\n",
       "</style>\n",
       "<table border=\"1\" class=\"dataframe\">\n",
       "  <thead>\n",
       "    <tr style=\"text-align: right;\">\n",
       "      <th></th>\n",
       "      <th>ID</th>\n",
       "      <th>Vendor</th>\n",
       "      <th>Subtotal</th>\n",
       "      <th>Service_Fee</th>\n",
       "      <th>Additional_Taxes</th>\n",
       "      <th>Total</th>\n",
       "    </tr>\n",
       "  </thead>\n",
       "  <tbody>\n",
       "    <tr>\n",
       "      <th>0</th>\n",
       "      <td>1</td>\n",
       "      <td>TM</td>\n",
       "      <td>43</td>\n",
       "      <td>8.35</td>\n",
       "      <td>3.88</td>\n",
       "      <td>55.23</td>\n",
       "    </tr>\n",
       "    <tr>\n",
       "      <th>1</th>\n",
       "      <td>2</td>\n",
       "      <td>ET</td>\n",
       "      <td>36</td>\n",
       "      <td>13.38</td>\n",
       "      <td>1.48</td>\n",
       "      <td>50.86</td>\n",
       "    </tr>\n",
       "    <tr>\n",
       "      <th>2</th>\n",
       "      <td>3</td>\n",
       "      <td>TW</td>\n",
       "      <td>59</td>\n",
       "      <td>16.60</td>\n",
       "      <td>0.00</td>\n",
       "      <td>75.60</td>\n",
       "    </tr>\n",
       "  </tbody>\n",
       "</table>\n",
       "</div>"
      ],
      "text/plain": [
       "   ID Vendor  Subtotal  Service_Fee  Additional_Taxes  Total\n",
       "0   1     TM        43         8.35              3.88  55.23\n",
       "1   2     ET        36        13.38              1.48  50.86\n",
       "2   3     TW        59        16.60              0.00  75.60"
      ]
     },
     "execution_count": 9,
     "metadata": {},
     "output_type": "execute_result"
    }
   ],
   "source": [
    "df"
   ]
  },
  {
   "cell_type": "markdown",
   "metadata": {},
   "source": [
    "That's better.  This table is about as simple as it gets, but lets look at some descriptive data:"
   ]
  },
  {
   "cell_type": "code",
   "execution_count": 12,
   "metadata": {},
   "outputs": [
    {
     "name": "stdout",
     "output_type": "stream",
     "text": [
      "<class 'pandas.core.frame.DataFrame'>\n",
      "RangeIndex: 3 entries, 0 to 2\n",
      "Data columns (total 6 columns):\n",
      " #   Column            Non-Null Count  Dtype  \n",
      "---  ------            --------------  -----  \n",
      " 0   ID                3 non-null      int64  \n",
      " 1   Vendor            3 non-null      object \n",
      " 2   Subtotal          3 non-null      int64  \n",
      " 3   Service_Fee       3 non-null      float64\n",
      " 4   Additional_Taxes  3 non-null      float64\n",
      " 5   Total             3 non-null      float64\n",
      "dtypes: float64(3), int64(2), object(1)\n",
      "memory usage: 272.0+ bytes\n"
     ]
    }
   ],
   "source": [
    "df.info(verbose=True)"
   ]
  },
  {
   "cell_type": "code",
   "execution_count": 14,
   "metadata": {},
   "outputs": [
    {
     "data": {
      "text/html": [
       "<div>\n",
       "<style scoped>\n",
       "    .dataframe tbody tr th:only-of-type {\n",
       "        vertical-align: middle;\n",
       "    }\n",
       "\n",
       "    .dataframe tbody tr th {\n",
       "        vertical-align: top;\n",
       "    }\n",
       "\n",
       "    .dataframe thead th {\n",
       "        text-align: right;\n",
       "    }\n",
       "</style>\n",
       "<table border=\"1\" class=\"dataframe\">\n",
       "  <thead>\n",
       "    <tr style=\"text-align: right;\">\n",
       "      <th></th>\n",
       "      <th>ID</th>\n",
       "      <th>Subtotal</th>\n",
       "      <th>Service_Fee</th>\n",
       "      <th>Additional_Taxes</th>\n",
       "      <th>Total</th>\n",
       "    </tr>\n",
       "  </thead>\n",
       "  <tbody>\n",
       "    <tr>\n",
       "      <th>count</th>\n",
       "      <td>3.0</td>\n",
       "      <td>3.000000</td>\n",
       "      <td>3.000000</td>\n",
       "      <td>3.000000</td>\n",
       "      <td>3.000000</td>\n",
       "    </tr>\n",
       "    <tr>\n",
       "      <th>mean</th>\n",
       "      <td>2.0</td>\n",
       "      <td>46.000000</td>\n",
       "      <td>12.776667</td>\n",
       "      <td>1.786667</td>\n",
       "      <td>60.563333</td>\n",
       "    </tr>\n",
       "    <tr>\n",
       "      <th>std</th>\n",
       "      <td>1.0</td>\n",
       "      <td>11.789826</td>\n",
       "      <td>4.157960</td>\n",
       "      <td>1.958094</td>\n",
       "      <td>13.204175</td>\n",
       "    </tr>\n",
       "    <tr>\n",
       "      <th>min</th>\n",
       "      <td>1.0</td>\n",
       "      <td>36.000000</td>\n",
       "      <td>8.350000</td>\n",
       "      <td>0.000000</td>\n",
       "      <td>50.860000</td>\n",
       "    </tr>\n",
       "    <tr>\n",
       "      <th>25%</th>\n",
       "      <td>1.5</td>\n",
       "      <td>39.500000</td>\n",
       "      <td>10.865000</td>\n",
       "      <td>0.740000</td>\n",
       "      <td>53.045000</td>\n",
       "    </tr>\n",
       "    <tr>\n",
       "      <th>50%</th>\n",
       "      <td>2.0</td>\n",
       "      <td>43.000000</td>\n",
       "      <td>13.380000</td>\n",
       "      <td>1.480000</td>\n",
       "      <td>55.230000</td>\n",
       "    </tr>\n",
       "    <tr>\n",
       "      <th>75%</th>\n",
       "      <td>2.5</td>\n",
       "      <td>51.000000</td>\n",
       "      <td>14.990000</td>\n",
       "      <td>2.680000</td>\n",
       "      <td>65.415000</td>\n",
       "    </tr>\n",
       "    <tr>\n",
       "      <th>max</th>\n",
       "      <td>3.0</td>\n",
       "      <td>59.000000</td>\n",
       "      <td>16.600000</td>\n",
       "      <td>3.880000</td>\n",
       "      <td>75.600000</td>\n",
       "    </tr>\n",
       "  </tbody>\n",
       "</table>\n",
       "</div>"
      ],
      "text/plain": [
       "        ID   Subtotal  Service_Fee  Additional_Taxes      Total\n",
       "count  3.0   3.000000     3.000000          3.000000   3.000000\n",
       "mean   2.0  46.000000    12.776667          1.786667  60.563333\n",
       "std    1.0  11.789826     4.157960          1.958094  13.204175\n",
       "min    1.0  36.000000     8.350000          0.000000  50.860000\n",
       "25%    1.5  39.500000    10.865000          0.740000  53.045000\n",
       "50%    2.0  43.000000    13.380000          1.480000  55.230000\n",
       "75%    2.5  51.000000    14.990000          2.680000  65.415000\n",
       "max    3.0  59.000000    16.600000          3.880000  75.600000"
      ]
     },
     "execution_count": 14,
     "metadata": {},
     "output_type": "execute_result"
    }
   ],
   "source": [
    "df.describe()"
   ]
  },
  {
   "cell_type": "markdown",
   "metadata": {},
   "source": [
    "Observations:\n",
    " - ID functioned as an index in the MySQL table.\n",
    " - Vendor is text data.  It is the name of the organization selling tickets.  There is no duplication, so no grouping will be required.\n",
    " - Subtotal is the base cost of two tickets (each of these 3 records has two tickets).\n",
    " - Service_Fee & Additional_Taxes are \"add on\" costs.  There is clearly a difference in how each organization does this, as the values are very different and taxes are spread out in different categories.\n",
    " - Total is the total price of 2 tickets\n",
    " - Average Subtotal is $46, and Average Total is $60.56.  That means that the total average of add-on charges is ~$14.56.\n",
    " - Maximum Total cost for two tickets is $75.60, while minimum Total cost is $50.86"
   ]
  },
  {
   "cell_type": "markdown",
   "metadata": {},
   "source": [
    "Lets plot this out in a couple different ways."
   ]
  },
  {
   "cell_type": "code",
   "execution_count": 48,
   "metadata": {},
   "outputs": [
    {
     "data": {
      "image/png": "[encoded data removed]",
      "text/plain": [
       "<Figure size 640x480 with 1 Axes>"
      ]
     },
     "metadata": {},
     "output_type": "display_data"
    }
   ],
   "source": [
    "# Pieplot of total costs\n",
    "names=tuple(list(df['Vendor']))\n",
    "values=np.array(df['Total'])\n",
    "plt.pie(values, labels=names, labeldistance=1.15)\n",
    "plt.show()"
   ]
  },
  {
   "cell_type": "markdown",
   "metadata": {},
   "source": [
    "As frequently occurs with Pie Charts, this doesn't provide much insight.  Lets move on to a bar plot instead."
   ]
  },
  {
   "cell_type": "code",
   "execution_count": 55,
   "metadata": {},
   "outputs": [
    {
     "data": {
      "image/png": "[encoded data removed]",
      "text/plain": [
       "<Figure size 640x480 with 1 Axes>"
      ]
     },
     "metadata": {},
     "output_type": "display_data"
    }
   ],
   "source": [
    "# Barplot of total costs\n",
    "names=tuple(list(df['Vendor']))\n",
    "values=np.array(df['Total'])\n",
    "y_pos=np.arange(len(names))\n",
    "plt.bar(y_pos, values)\n",
    "plt.xticks(y_pos, names)\n",
    "plt.title('Total Ticket Cost')\n",
    "plt.show()"
   ]
  },
  {
   "cell_type": "markdown",
   "metadata": {},
   "source": [
    "Fabulous, now we are getting somewhere.  How much of this is made up of add-on fees?"
   ]
  },
  {
   "cell_type": "code",
   "execution_count": 57,
   "metadata": {},
   "outputs": [],
   "source": [
    "# import necessary libraries\n",
    "from matplotlib import rc"
   ]
  },
  {
   "cell_type": "code",
   "execution_count": 91,
   "metadata": {},
   "outputs": [],
   "source": [
    "# Transpose df to crate arrays for bars.  Doing it this way becuase I hardly ever transpose arrays, so I just wanted to do it this way.\n",
    "dft = df.T\n",
    "dft = dft.drop(['ID','Vendor'])"
   ]
  },
  {
   "cell_type": "code",
   "execution_count": 134,
   "metadata": {},
   "outputs": [
    {
     "data": {
      "image/png": "[encoded data removed]",
      "text/plain": [
       "<Figure size 640x480 with 1 Axes>"
      ]
     },
     "metadata": {},
     "output_type": "display_data"
    }
   ],
   "source": [
    "# Stacked Barplot of costs\n",
    "names= np.array(df['Vendor'])\n",
    "Subtotal = np.array(dft.iloc[0])\n",
    "Service_Fee = np.array(dft.iloc[1])\n",
    "Additional_Taxes = np.array(dft.iloc[2])\n",
    "\n",
    "bars = np.add(Subtotal, Service_Fee).tolist()\n",
    "\n",
    "r = [0,1,2]\n",
    "\n",
    "barWidth=1\n",
    "\n",
    "plt.bar(r, Subtotal, color='#00ae7d', edgecolor='white', width=barWidth, label = 'Subtotal')\n",
    "plt.bar(r, Service_Fee, bottom = Subtotal, color='#98ff6e', edgecolor='white', width = barWidth, label = 'Service Fee')\n",
    "plt.bar(r, Additional_Taxes, bottom=bars, color='#ffe54a', edgecolor='white', width=barWidth, label = 'Additional Taxes')\n",
    "\n",
    "plt.xticks(r, names, fontweight='bold')\n",
    "plt.xlabel(\"group\")\n",
    "\n",
    "# Create legend\n",
    "plt.legend()\n",
    "\n",
    "\n",
    "plt.show()"
   ]
  },
  {
   "cell_type": "markdown",
   "metadata": {},
   "source": [
    "Observations:\n",
    " - TW has the highest Subtotal, but no Additional Taxes."
   ]
  },
  {
   "cell_type": "markdown",
   "metadata": {},
   "source": [
    "Will this be easier to interpret if we reorder the categories?"
   ]
  },
  {
   "cell_type": "code",
   "execution_count": 137,
   "metadata": {},
   "outputs": [
    {
     "data": {
      "image/png": "[encoded data removed]",
      "text/plain": [
       "<Figure size 640x480 with 1 Axes>"
      ]
     },
     "metadata": {},
     "output_type": "display_data"
    }
   ],
   "source": [
    "# Stacked Barplot of costs\n",
    "names= np.array(df['Vendor'])\n",
    "Subtotal = np.array(dft.iloc[0])\n",
    "Service_Fee = np.array(dft.iloc[1])\n",
    "Additional_Taxes = np.array(dft.iloc[2])\n",
    "\n",
    "bars = np.add(Additional_Taxes, Service_Fee).tolist()\n",
    "\n",
    "r = [0,1,2]\n",
    "\n",
    "barWidth=1\n",
    "\n",
    "plt.bar(r, Service_Fee, color='#98ff6e', edgecolor='white', width = barWidth, label = 'Service Fee')\n",
    "plt.bar(r, Additional_Taxes, bottom=Service_Fee, color='#ffe54a', edgecolor='white', width=barWidth, label = 'Additional Taxes')\n",
    "plt.bar(r, Subtotal, bottom = bars, color='#00ae7d', edgecolor='white', width=barWidth, label = 'Subtotal')\n",
    "\n",
    "plt.xticks(r, names, fontweight='bold')\n",
    "plt.xlabel(\"group\")\n",
    "\n",
    "# Create legend\n",
    "plt.legend()\n",
    "\n",
    "\n",
    "plt.show()"
   ]
  },
  {
   "cell_type": "markdown",
   "metadata": {},
   "source": [
    "Observations:\n",
    " - Now we can see a ranking of which vendor has the highest total fees (TW) and the lowest (TM)"
   ]
  },
  {
   "cell_type": "markdown",
   "metadata": {},
   "source": [
    "Lets also do this as a Percent Stacked Barchart.  This allows us to compare how much of each dollar spent is used for fees (regardless of different subtotal values)"
   ]
  },
  {
   "cell_type": "code",
   "execution_count": 162,
   "metadata": {},
   "outputs": [
    {
     "data": {
      "image/png": "[encoded data removed]",
      "text/plain": [
       "<Figure size 640x480 with 1 Axes>"
      ]
     },
     "metadata": {},
     "output_type": "display_data"
    }
   ],
   "source": [
    "# Stacked Barplot of costs\n",
    "\n",
    "r = [0,1,2]\n",
    "Subtotal = np.array(dft.iloc[0])\n",
    "Service_Fee = np.array(dft.iloc[1])\n",
    "Additional_Taxes = np.array(dft.iloc[2])\n",
    "\n",
    "totals = [i+j+k for i,j,k in zip(Subtotal, Service_Fee, Additional_Taxes)]\n",
    "Subtotal_ = [i/j*100 for i,j in zip(Subtotal, totals)]\n",
    "Service_Fee_ = [i/j*100 for i,j in zip(Service_Fee, totals)]\n",
    "Additional_Taxes_ = [i/j*100 for i,j in zip(Additional_Taxes, totals)]\n",
    "\n",
    "barWidth=0.85\n",
    "names= np.array(df['Vendor'])\n",
    "\n",
    "plt.bar(r, Subtotal_, color='#00ae7d', edgecolor='white', width=barWidth, label = 'Subtotal')\n",
    "plt.bar(r, Service_Fee_, bottom = Subtotal_, color='#98ff6e', edgecolor='white', width = barWidth, label = 'Service Fee')\n",
    "plt.bar(r, Additional_Taxes_, bottom=[i+j for i,j in zip(Subtotal_, Service_Fee_)], color='#ffe54a', edgecolor='white', width=barWidth, label = 'Additional Taxes')\n",
    "\n",
    "plt.xticks(r, names, fontweight='bold')\n",
    "plt.xlabel(\"group\")\n",
    "\n",
    "# Create legend\n",
    "plt.legend()\n",
    "\n",
    "plt.show()"
   ]
  },
  {
   "cell_type": "markdown",
   "metadata": {},
   "source": [
    "Observations:\n",
    " - ET charges the highest in add-ons as a percentage of total cost."
   ]
  },
  {
   "cell_type": "markdown",
   "metadata": {},
   "source": [
    "Using a percentage bar chart there is no need to reorder.  We can read \"top-down\" to see that ET has the highest fees per dollar spent on actual product (event tickets).  TM and TW have very similar overall fees, even though they name them differently.  Lets do a quick non-visual comparison to see the difference (since it is hard to see here graphically)."
   ]
  },
  {
   "cell_type": "code",
   "execution_count": 139,
   "metadata": {},
   "outputs": [
    {
     "data": {
      "text/html": [
       "<div>\n",
       "<style scoped>\n",
       "    .dataframe tbody tr th:only-of-type {\n",
       "        vertical-align: middle;\n",
       "    }\n",
       "\n",
       "    .dataframe tbody tr th {\n",
       "        vertical-align: top;\n",
       "    }\n",
       "\n",
       "    .dataframe thead th {\n",
       "        text-align: right;\n",
       "    }\n",
       "</style>\n",
       "<table border=\"1\" class=\"dataframe\">\n",
       "  <thead>\n",
       "    <tr style=\"text-align: right;\">\n",
       "      <th></th>\n",
       "      <th>ID</th>\n",
       "      <th>Vendor</th>\n",
       "      <th>Subtotal</th>\n",
       "      <th>Service_Fee</th>\n",
       "      <th>Additional_Taxes</th>\n",
       "      <th>Total</th>\n",
       "    </tr>\n",
       "  </thead>\n",
       "  <tbody>\n",
       "    <tr>\n",
       "      <th>0</th>\n",
       "      <td>1</td>\n",
       "      <td>TM</td>\n",
       "      <td>43</td>\n",
       "      <td>8.35</td>\n",
       "      <td>3.88</td>\n",
       "      <td>55.23</td>\n",
       "    </tr>\n",
       "    <tr>\n",
       "      <th>1</th>\n",
       "      <td>2</td>\n",
       "      <td>ET</td>\n",
       "      <td>36</td>\n",
       "      <td>13.38</td>\n",
       "      <td>1.48</td>\n",
       "      <td>50.86</td>\n",
       "    </tr>\n",
       "    <tr>\n",
       "      <th>2</th>\n",
       "      <td>3</td>\n",
       "      <td>TW</td>\n",
       "      <td>59</td>\n",
       "      <td>16.60</td>\n",
       "      <td>0.00</td>\n",
       "      <td>75.60</td>\n",
       "    </tr>\n",
       "  </tbody>\n",
       "</table>\n",
       "</div>"
      ],
      "text/plain": [
       "   ID Vendor  Subtotal  Service_Fee  Additional_Taxes  Total\n",
       "0   1     TM        43         8.35              3.88  55.23\n",
       "1   2     ET        36        13.38              1.48  50.86\n",
       "2   3     TW        59        16.60              0.00  75.60"
      ]
     },
     "execution_count": 139,
     "metadata": {},
     "output_type": "execute_result"
    }
   ],
   "source": [
    "# Quick look at the dataframe so we don't have to scroll all the way up\n",
    "df"
   ]
  },
  {
   "cell_type": "code",
   "execution_count": 150,
   "metadata": {},
   "outputs": [],
   "source": [
    "TM_fees = df.iloc[0,3]+df.iloc[0,4]\n",
    "ET_fees = df.iloc[1,3]+df.iloc[1,4]\n",
    "TW_fees = df.iloc[2,3]+df.iloc[2,4]"
   ]
  },
  {
   "cell_type": "code",
   "execution_count": 158,
   "metadata": {},
   "outputs": [
    {
     "name": "stdout",
     "output_type": "stream",
     "text": [
      "Raw numbers (not percentage):\n",
      "TM combined fees are  12.23\n",
      "ET combined fees are  14.860000000000001\n",
      "TW combined fees are  16.6\n"
     ]
    }
   ],
   "source": [
    "print(\"Raw numbers (not percentage):\")\n",
    "print(\"TM combined fees are \", TM_fees)\n",
    "print(\"ET combined fees are \", ET_fees)\n",
    "print(\"TW combined fees are \", TW_fees)"
   ]
  },
  {
   "cell_type": "code",
   "execution_count": 152,
   "metadata": {},
   "outputs": [
    {
     "data": {
      "text/plain": [
       "[77.85623755205503, 70.78254030672434, 78.04232804232805]"
      ]
     },
     "execution_count": 152,
     "metadata": {},
     "output_type": "execute_result"
    }
   ],
   "source": [
    "Subtotal_"
   ]
  },
  {
   "cell_type": "code",
   "execution_count": 153,
   "metadata": {},
   "outputs": [
    {
     "data": {
      "text/plain": [
       "[15.118594966503709, 26.30751081399921, 21.957671957671963]"
      ]
     },
     "execution_count": 153,
     "metadata": {},
     "output_type": "execute_result"
    }
   ],
   "source": [
    "Service_Fee_"
   ]
  },
  {
   "cell_type": "code",
   "execution_count": 155,
   "metadata": {},
   "outputs": [
    {
     "data": {
      "text/plain": [
       "[7.025167481441246, 2.909948879276445, 0.0]"
      ]
     },
     "execution_count": 155,
     "metadata": {},
     "output_type": "execute_result"
    }
   ],
   "source": [
    "Additional_Taxes_"
   ]
  },
  {
   "cell_type": "code",
   "execution_count": 159,
   "metadata": {},
   "outputs": [],
   "source": [
    "TM_pct = Service_Fee_[0] + Additional_Taxes_[0]\n",
    "ET_pct = Service_Fee_[1] + Additional_Taxes_[1]\n",
    "TW_pct = Service_Fee_[2] + Additional_Taxes_[2]"
   ]
  },
  {
   "cell_type": "code",
   "execution_count": 161,
   "metadata": {},
   "outputs": [
    {
     "name": "stdout",
     "output_type": "stream",
     "text": [
      "Percentage of Totals which are Combined Fees:\n",
      "TM combined fees percentage =  22.143762447944955\n",
      "ET combined fees percentage =  29.217459693275657\n",
      "TW combined fees percentage =  21.957671957671963\n"
     ]
    }
   ],
   "source": [
    "print(\"Percentage of Totals which are Combined Fees:\")\n",
    "print(\"TM combined fees percentage = \", TM_pct)\n",
    "print(\"ET combined fees percentage = \", ET_pct)\n",
    "print(\"TW combined fees percentage = \", TW_pct)"
   ]
  },
  {
   "cell_type": "markdown",
   "metadata": {},
   "source": [
    "Observations:\n",
    " - We can see here that, as a percentage of total price paid, ET has the highest fee rate, followed in order by TM and then TW.\n",
    " - TM is just barely more expensive than TW (in regards to fees charged as a percentage of total cost)"
   ]
  }
 ],
 "metadata": {
  "kernelspec": {
   "display_name": "Python 3.10.7 64-bit",
   "language": "python",
   "name": "python3"
  },
  "language_info": {
   "codemirror_mode": {
    "name": "ipython",
    "version": 3
   },
   "file_extension": ".py",
   "mimetype": "text/x-python",
   "name": "python",
   "nbconvert_exporter": "python",
   "pygments_lexer": "ipython3",
   "version": "3.10.7"
  },
  "orig_nbformat": 4,
  "vscode": {
   "interpreter": {
    "hash": "3f674cce88d736ed0af4f91f986332152988e4d080f9e8a754291934a46a3de6"
   }
  }
 },
 "nbformat": 4,
 "nbformat_minor": 2
}
